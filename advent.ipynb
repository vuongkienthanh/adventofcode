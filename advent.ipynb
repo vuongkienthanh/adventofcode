{
 "cells": [
  {
   "cell_type": "code",
   "execution_count": 130,
   "metadata": {},
   "outputs": [],
   "source": [
    "import requests\n",
    "import numpy as np\n",
    "import pandas as pd\n",
    "import logging\n",
    "# logging.basicConfig(level=logging.DEBUG,filename='day10.log')\n",
    "from itertools import count, permutations, cycle\n",
    "import matplotlib.pyplot as plt\n",
    "from collections import defaultdict\n",
    "import re"
   ]
  },
  {
   "cell_type": "code",
   "execution_count": 73,
   "metadata": {},
   "outputs": [],
   "source": [
    "headers = {'cookie': '_ga=GA1.2.907830504.1594222671; _gid=GA1.2.1781229957.1594222671; session=53616c7465645f5fe81f8d8f3814f3b518c9c3251b2c48ccafec4fa4fe649650e65698b18c9e52d5cd16bbd46d1872a7'}\n",
    "\n",
    "d12 =requests.get('https://adventofcode.com/2019/day/12/input', headers=headers).text.strip()"
   ]
  },
  {
   "cell_type": "code",
   "execution_count": 141,
   "metadata": {},
   "outputs": [],
   "source": [
    "def d12_parser(data):\n",
    "    res = data.split()\n",
    "    for i,x in enumerate(res):\n",
    "        match_span = re.search(r\"[-]?\\d+\", x).span()\n",
    "        res[i] = x[match_span[0]:match_span[1]]\n",
    "        \n",
    "    \n",
    "    return(res)"
   ]
  },
  {
   "cell_type": "code",
   "execution_count": 142,
   "metadata": {},
   "outputs": [
    {
     "data": {
      "text/plain": [
       "['13', '9', '5', '8', '14', '-2', '-5', '4', '11', '2', '-6', '1']"
      ]
     },
     "execution_count": 142,
     "metadata": {},
     "output_type": "execute_result"
    }
   ],
   "source": [
    "d12_parser(d12)"
   ]
  },
  {
   "cell_type": "code",
   "execution_count": null,
   "metadata": {},
   "outputs": [],
   "source": [
    "class Planet():\n",
    "class MoonSimulator():\n",
    "    def __init__(self, data):\n",
    "        \n",
    "    \n",
    "    def parser(self.data):"
   ]
  }
 ],
 "metadata": {
  "kernelspec": {
   "display_name": "Python 3",
   "language": "python",
   "name": "python3"
  },
  "language_info": {
   "codemirror_mode": {
    "name": "ipython",
    "version": 3
   },
   "file_extension": ".py",
   "mimetype": "text/x-python",
   "name": "python",
   "nbconvert_exporter": "python",
   "pygments_lexer": "ipython3",
   "version": "3.7.7"
  }
 },
 "nbformat": 4,
 "nbformat_minor": 4
}
